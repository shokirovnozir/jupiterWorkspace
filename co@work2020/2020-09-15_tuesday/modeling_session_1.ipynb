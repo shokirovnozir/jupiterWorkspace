{
 "cells": [
  {
   "cell_type": "markdown",
   "metadata": {},
   "source": [
    "# Exercise session 1: Overview of the Xpress Python Interface\n",
    "\n",
    "## Creating a simple LP\n",
    "\n",
    "First, create the simple mixed integer linear program:\n",
    "\n",
    "$$\n",
    "\\begin{array}{lll}\n",
    "  \\min & x + y\\\\\n",
    "  \\textrm{s.t.} & 2x + 3y \\ge 6\\\\\n",
    "                & 4x + 2y \\ge 7\\\\\n",
    "                & x,y \\ge 0\n",
    "\\end{array}\n",
    "$$"
   ]
  },
  {
   "cell_type": "code",
   "execution_count": null,
   "metadata": {},
   "outputs": [],
   "source": [
    "# Location of manual and examples can be found by calling appropriate functions:\n",
    "\n",
    "import xpress\n",
    "print(xpress.manual())\n",
    "print(xpress.examples())"
   ]
  },
  {
   "cell_type": "code",
   "execution_count": null,
   "metadata": {},
   "outputs": [],
   "source": [
    "import xpress as xp\n",
    "\n",
    "# TODO Declare variables: x = xp.var(...)\n",
    "\n",
    "# TODO Define constraints: constr1 = 2*x + ...\n",
    "\n",
    "# TODO Define objective: obj = ...\n",
    "\n",
    "# TODO Create problem: p = xp.problem(...)\n",
    "\n",
    "p.solve()\n",
    "\n",
    "print(f'solution: x={p.getSolution(x)}, y={p.getSolution(y)}')"
   ]
  },
  {
   "cell_type": "markdown",
   "metadata": {},
   "source": [
    "Add the constraint $x + 2y \\le 2$ to the problem, then re-solve. The problem should now be infeasible."
   ]
  },
  {
   "cell_type": "code",
   "execution_count": null,
   "metadata": {},
   "outputs": [],
   "source": [
    "# TODO Create constraint\n",
    "\n",
    "# TODO Add constraint to problem\n",
    "\n",
    "# TODO Call solve() again"
   ]
  },
  {
   "cell_type": "markdown",
   "metadata": {},
   "source": [
    "Use the `iisall` function to understand what made the problem infeasible. If needed, type `help(p.iisall)` for its docstring."
   ]
  },
  {
   "cell_type": "code",
   "execution_count": null,
   "metadata": {},
   "outputs": [],
   "source": [
    "# TODO Call iisall() on problem p (easy...)."
   ]
  },
  {
   "cell_type": "markdown",
   "metadata": {},
   "source": [
    "Now delete the constraint (using the `problem.delConstraint` method) and, just to avoid the same solve as before, change the objective function coefficient of x to 4. Then re-solve and print primal and dual solution using `problem.getSolution` for the primal solution and `problem.getDual` for the dual solution. Recall that these functions can be called without arguments to obtain the whole vector, or with a variable/constraint object to get one or more values."
   ]
  },
  {
   "cell_type": "code",
   "execution_count": null,
   "metadata": {},
   "outputs": [],
   "source": [
    "# TODO Use delConstraint() to delete the last added constraint\n",
    "\n",
    "# TODO Use p.chgobj() to change one objective coefficient.\n",
    "# Its syntax has a list of variables for which the\n",
    "# coefficient is changed and a list of corresponding \n",
    "# new coefficient, so the call is like p.chgobj([x1, x2, ...], [c1, c2, ...])\n",
    "\n",
    "p.solve()\n",
    "print(f'Solution: x={p.getSolution(x)}, y={p.getSolution(y)}')\n",
    "print(f'Dual: constr1->{p.getDual(constr1)}, constr2->{p.getDual(constr2)}')"
   ]
  },
  {
   "cell_type": "markdown",
   "metadata": {},
   "source": [
    "## Knapsack problem\n",
    "\n",
    "Formulate and solve a knapsack problem with the following value/weight vectors:\n",
    "\n",
    "$$\n",
    "\\begin{array}{lllrrrrrrr}\n",
    "v& =& (12,&15,& 9,&11,& 8,& 7,&5)\\\\\n",
    "w& =& (13, &18,& 9,& 12,& 8,& 10,& 4)\n",
    "\\end{array}\n",
    "$$\n",
    "\n",
    "and with knapsack capacity $C=40$. You will need the `xpress.Sum` operator."
   ]
  },
  {
   "cell_type": "code",
   "execution_count": null,
   "metadata": {},
   "outputs": [],
   "source": [
    "import xpress as xp\n",
    "\n",
    "v = [12,15,9,11,8, 7,5]\n",
    "w = [13,18,9,12,8,10,4]\n",
    "C = 40\n",
    "\n",
    "# Number of variables\n",
    "n = len(v)\n",
    "\n",
    "# TODO Define a list of n binary variables\n",
    "\n",
    "# TODO Define the knapsack constraint and its objective\n",
    "\n",
    "# TODO Create a problem and add variable list, constraint, and objective\n",
    "\n",
    "p.solve()\n",
    "\n",
    "print(p.getSolution())"
   ]
  },
  {
   "cell_type": "markdown",
   "metadata": {},
   "source": [
    "## Reading and solving a MIP\n",
    "\n",
    "Let's try to solve something bigger, like a file from the MIPLIB 2017 collection. Specifically, `roi2alpha3n4`. It should be available in the directory with this exercise session; load it and solve it as a Python problem."
   ]
  },
  {
   "cell_type": "code",
   "execution_count": null,
   "metadata": {},
   "outputs": [],
   "source": [
    "# TO BE DONE IN CLASS\n",
    "\n"
   ]
  },
  {
   "cell_type": "markdown",
   "metadata": {},
   "source": [
    "Add a new constraint: the norm of the variable vector is at most 10. Even if the problem was read from a file, you can get the vector of all variables with `problem.getVariable`.\n",
    "\n",
    "Note that before the constraint is added we'll have to postsolve the problem (using the `problem.postsolve()` function) as, for reasons of performance, the problem remains in a presolved state after the `solve()` call."
   ]
  },
  {
   "cell_type": "code",
   "execution_count": null,
   "metadata": {},
   "outputs": [],
   "source": [
    "import numpy as np\n",
    "p.postsolve()\n",
    "\n",
    "# TODO: Get all variables as a numpy array (with appropriate numpy dtype) using the getVariable()\n",
    "# function wrapped in a np.array() call, i.e., np.array(p.getVariable(...), dtype=xp.npvar)\n",
    "\n",
    "# TODO: Add constraint with sum of squares of all variables at most 100 (i.e. norm <= 10)\n",
    "\n",
    "# Set a time limit and solve the problem\n",
    "p.controls.maxtime=-30\n",
    "p.solve()"
   ]
  },
  {
   "cell_type": "markdown",
   "metadata": {},
   "source": [
    "With a real MIP at hand, how about we try to see the structure of the coefficient structure from a graphical standpoint? Use `matplotlib` to draw a density chart."
   ]
  },
  {
   "cell_type": "code",
   "execution_count": null,
   "metadata": {},
   "outputs": [],
   "source": [
    "import numpy as np\n",
    "import matplotlib.pyplot as plt\n",
    "import scipy.sparse as sparse\n",
    "\n",
    "p.postsolve()\n",
    "\n",
    "# Extract all coefficient data with getrows()\n",
    "\n",
    "# mclind contains variable objects, not indices.\n",
    "# Extract the index for all of them with getIndex()\n",
    "\n",
    "# Use the spy() function for plotting the matrix\n",
    "plt.show()"
   ]
  },
  {
   "cell_type": "markdown",
   "metadata": {},
   "source": [
    "### NumPy operators and arrays of variables/constraints\n",
    "\n",
    "NumPy is an essential toolbox for Python users. The Xpress Python interface can handle (multi-)arrays of floats, variables, expressions, constraints as naturally as with lists thereof."
   ]
  },
  {
   "cell_type": "code",
   "execution_count": null,
   "metadata": {},
   "outputs": [],
   "source": [
    "import numpy as np\n"
   ]
  },
  {
   "cell_type": "markdown",
   "metadata": {},
   "source": [
    "We can also rewrite the knapsack problem using NumPy constructs."
   ]
  },
  {
   "cell_type": "code",
   "execution_count": null,
   "metadata": {},
   "outputs": [],
   "source": [
    "import xpress as xp\n",
    "import numpy as np\n",
    "\n",
    "v = np.array([12,15,9,11,8, 7,5])\n",
    "w = np.array([13,18,9,12,8,10,4])\n",
    "C = 40\n",
    "\n",
    "n = len(v)\n",
    "\n",
    "# Create numpy array of n binary variables\n",
    "\n",
    "# Create constraints and objective for the knapsack\n",
    "\n",
    "# Create (maximization!) problem\n",
    "\n",
    "p.solve()\n",
    "\n",
    "print(p.getSolution())"
   ]
  },
  {
   "cell_type": "markdown",
   "metadata": {},
   "source": [
    "**Exercise**: Create a random 20x30 numpy matrix $A$ and vectors ${\\bf b}$ and ${\\bf c}$, then create a problem with ${\\bf c}$ as objective function coefficient vector and constraints $A{\\bf x} \\le {\\bf b}$."
   ]
  },
  {
   "cell_type": "code",
   "execution_count": null,
   "metadata": {},
   "outputs": [],
   "source": [
    "n = 3 # number of variables\n",
    "m = 2 # number of constraints\n",
    "\n",
    "# TODO Create numpy random matrix A, b, and c using the function\n",
    "# np.random.random(), with a single parameter k to create a\n",
    "# 1-dimensional array and the tuple (k1,k2) for a matrix\n",
    "\n",
    "# TODO Create a variable vector\n",
    "\n",
    "# TODO Create objective and constraint using the xpress.Dot() operator.\n",
    "\n",
    "# TODO Create problem\n",
    "\n",
    "p.solve()"
   ]
  },
  {
   "cell_type": "markdown",
   "metadata": {},
   "source": [
    "Let's spice it up: make the objective function quadratic, with a matrix $Q$ that is PSD but not necessarily diagonal. Make the objective\n",
    "\n",
    "$$\n",
    "(x-x_0)^T Q (x-x_0)\n",
    "$$"
   ]
  },
  {
   "cell_type": "code",
   "execution_count": null,
   "metadata": {},
   "outputs": [],
   "source": [
    "# This matrix is positive semidefinite, so that the problem is convex.\n",
    "Q = np.random.random((n,n)) - 0.5 + 3*n*np.eye(n)\n",
    "\n",
    "# Creates a uniformly random point with coordinates in [0,10]\n",
    "x0 = 10 * np.random.random(n)  \n",
    "\n",
    "# TODO Alter the objective function so as to minimize weighted\n",
    "# (with Q) distance between x and x0: (x-x0)' Q (x-x0)\n",
    "\n",
    "p.solve()"
   ]
  },
  {
   "cell_type": "markdown",
   "metadata": {},
   "source": [
    "Obviously we can use arrays of variables in constraints. Let's consider the following problem:\n",
    "\n",
    "### Production planning with quadratic cost\n",
    "\n",
    "A factory must plan production on one machine for the upcoming $N=12$ days. If, on one day, the machine is on, it must pay a fixed cost F, regardless of how much is produced on that machine. If the machine is on, the production must range between L and U. It must also pay a cost that is C times the square of the produced amount.\n",
    "\n",
    "The demand at a given day is $w_i$, and the unsold product can be stored in a storage container of capacity $M$. Finally, the storage level at the end of the $N$ days must be the same as the beginning, which is set as $S$.\n",
    "\n",
    "**Model**. Define two classes of variables, $x$ (continuous) and $y$ (binary), indicating the amount of production in a given day and whether the machine is on or off, respectively. Also, introduce a storage variable $s$ that is also indexed by the set of periods."
   ]
  },
  {
   "cell_type": "code",
   "execution_count": null,
   "metadata": {},
   "outputs": [],
   "source": [
    "import xpress as xp\n",
    "\n",
    "n = 12  # number of periods\n",
    "N = range(n)\n",
    "\n",
    "# Input parameters\n",
    "\n",
    "C = 2   # proportional cost\n",
    "F = 9000  # fixed cost\n",
    "L = 10   # min. production level\n",
    "U = 90   # max. production level\n",
    "M = 170  # maximum storage level\n",
    "S = 25   # initial storage level\n",
    "\n",
    "# Demand\n",
    "w = [60, 15, 25, 70, 70, 85, 10, 5, 65, 40, 50, 15]\n",
    "\n",
    "# TODO Create variables: y is a binary vector of size n, x has size\n",
    "# n, while s has size n+1 to include storage at time n + 1\n",
    "\n",
    "# TODO Total production cost (to be minimized)\n",
    "\n",
    "# TODO y determines bounds on x: if y=1, then x is\n",
    "# between L and U, otherwise it is 0. How to do it\n",
    "# using notions learned during the course? Hint: think\n",
    "# about big-M.\n",
    "\n",
    "# TODO Constrain storage at last period\n",
    "\n",
    "# TODO Production balance:\n",
    "# the storage at time i plus the production at time i\n",
    "# must equal\n",
    "# the storage at time i+1 plus the demand at time i.\n",
    "\n",
    "# TODO create a problem with the variables, objectives, and constraints\n",
    "# as defined above.\n",
    "\n",
    "p.solve()\n",
    "\n",
    "print('time demand machine productn storage')\n",
    "for i in N:\n",
    "    print('{0:4d} {1:6d} {2:7.0f} {3:8.4f} {4:7.4f}'.format(i, w[i],\n",
    "                                                            p.getSolution(y[i]),\n",
    "                                                            p.getSolution(x[i]),\n",
    "                                                            p.getSolution(s[i])))"
   ]
  },
  {
   "cell_type": "markdown",
   "metadata": {},
   "source": [
    "**Homework**: Rewrite the problem using NumPy for defining parameters, variables, constraints, and objective."
   ]
  },
  {
   "cell_type": "code",
   "execution_count": null,
   "metadata": {},
   "outputs": [],
   "source": [
    "import xpress as xp\n",
    "import numpy as np\n",
    "\n",
    "# Demand is translated to a NumPy array for using NumPy operators\n",
    "w = np.array(w)\n",
    "\n",
    "# TODO Variables: use vars() but remember to name them in order to\n",
    "# avoid variables with same name. For instance, use x = xp.vars(..., name='prod')\n",
    "# for production variables\n",
    "\n",
    "# TODO Total production cost (to be minimized)\n",
    "\n",
    "# TODO y determines bounds on x (just two numpy inequalities)\n",
    "\n",
    "# TODO storage at last period (doesn't change from previous model)\n",
    "\n",
    "# TODO Production balance: use the range operator of arrays for the s[] variable to write a \n",
    "# single numpy constraint.\n",
    "\n",
    "# TODO create problem\n",
    "\n",
    "p.solve()\n",
    "\n",
    "print('time demand machine production storage')\n",
    "for i in N:\n",
    "    print('{0:4d} {1:6d} {2:7.0f} {3:8.4f} {4:7.4f}'.format(i, w[i],\n",
    "                                                            p.getSolution(y[i]),\n",
    "                                                            p.getSolution(x[i]),\n",
    "                                                            p.getSolution(s[i])))"
   ]
  }
 ],
 "metadata": {
  "kernelspec": {
   "display_name": "Python 3",
   "language": "python",
   "name": "python3"
  },
  "language_info": {
   "codemirror_mode": {
    "name": "ipython",
    "version": 3
   },
   "file_extension": ".py",
   "mimetype": "text/x-python",
   "name": "python",
   "nbconvert_exporter": "python",
   "pygments_lexer": "ipython3",
   "version": "3.7.7"
  }
 },
 "nbformat": 4,
 "nbformat_minor": 4
}
