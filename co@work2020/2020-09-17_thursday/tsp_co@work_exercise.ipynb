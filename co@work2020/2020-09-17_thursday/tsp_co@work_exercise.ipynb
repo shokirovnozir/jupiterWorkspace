{
 "cells": [
  {
   "cell_type": "code",
   "execution_count": null,
   "metadata": {},
   "outputs": [],
   "source": [
    "# don't wrap long output lines, instead give us horizontal scroll\n",
    "from IPython.core.display import display, HTML\n",
    "display(HTML(\"<style>div.output_area pre {white-space: pre;}</style>\"))"
   ]
  },
  {
   "cell_type": "markdown",
   "metadata": {},
   "source": [
    "# The Basics\n",
    "\n",
    "## Getting SCIP and PySCIPOpt\n",
    "\n",
    "* A simple way is to use a docker container (where we are right now)\n",
    "* Instructions: http://www.pokutta.com/blog/pages/scip/scip-teaching.html\n",
    "* Alternatively, you can\n",
    "    * download and install the SCIP Optimization Suite (https://scipopt.org/index.php#download)\n",
    "    * install PySCIPOpt (https://github.com/SCIP-Interfaces/PySCIPOpt/blob/master/INSTALL.md)\n",
    "\n",
    "## Basic usage of PySCIPOpt\n",
    "\n",
    "* We need to import PySCIPOpt\n",
    "* Everything happens inside a `Model` object\n",
    "* Use `help` to get help\n",
    "* To redirect SCIPs output to Jupyter use `redirectOutput`"
   ]
  },
  {
   "cell_type": "code",
   "execution_count": null,
   "metadata": {},
   "outputs": [],
   "source": [
    "from pyscipopt import Model\n",
    "\n",
    "model = Model()\n",
    "\n",
    "# By default, SCIPs output is printed in the std output, not visible here. To fix this:\n",
    "model.redirectOutput()\n",
    "model.printVersion()\n",
    "\n",
    "\n",
    "# to get help on function, e.g., addVar\n",
    "help(model.addVar)"
   ]
  },
  {
   "cell_type": "code",
   "execution_count": null,
   "metadata": {},
   "outputs": [],
   "source": [
    "# This creates a continuous variable call cvar between 0.1 and 2.0\n",
    "cvar = model.addVar(\"cvar\", lb = 0.1, ub = 2.0)\n",
    "\n",
    "# This create a binary variable\n",
    "bvar = model.addVar(\"bvar\", vtype = 'B')\n"
   ]
  },
  {
   "cell_type": "code",
   "execution_count": null,
   "metadata": {},
   "outputs": [],
   "source": [
    "# We can combine variables to create expressions, which we can use to create constraints\n",
    "print(cvar + 2*bvar)\n",
    "print(\"--------------------\")\n",
    "\n",
    "print(cvar + 2*bvar <= 1)\n",
    "print(\"--------------------\")\n",
    "\n",
    "# to add a constraint:\n",
    "cons1 = model.addCons(cvar + 2*bvar <= 1, \"my cons\")"
   ]
  },
  {
   "cell_type": "code",
   "execution_count": null,
   "metadata": {},
   "outputs": [],
   "source": [
    "# now we just need an objective function and we can optimize\n",
    "model.setObjective(cvar + bvar, \"maximize\")\n",
    "model.optimize()\n",
    "\n",
    "\n",
    "# As cons1 forces bvar to be 0, we expect cvar = 1 and bvar = 0; let us verify\n",
    "\n",
    "print(\"\\nBest Solution:\")\n",
    "model.printBestSol()"
   ]
  },
  {
   "cell_type": "code",
   "execution_count": null,
   "metadata": {},
   "outputs": [],
   "source": [
    "# to access solution values\n",
    "sol = model.getBestSol()\n",
    "print( sol[cvar] == 1.0 and sol[bvar] == 0.0 )\n",
    "\n",
    "# one can also evaluate expressions\n",
    "model.getSolVal(sol, (cvar + 1)**2 + bvar)\n"
   ]
  },
  {
   "cell_type": "code",
   "execution_count": null,
   "metadata": {},
   "outputs": [],
   "source": [
    "# we can write the model we just created to a file:\n",
    "model.writeProblem(\"model.lp\")\n",
    "# in different formats\n",
    "print(\"----------------------\")\n",
    "model.writeProblem(\"model.cip\")"
   ]
  },
  {
   "cell_type": "code",
   "execution_count": null,
   "metadata": {
    "scrolled": true
   },
   "outputs": [],
   "source": [
    "# We forgot to add a variable and a (nonlinear) constraint, let us add it.\n",
    "# First, we need to free the transformed problem\n",
    "model.freeTransform()\n",
    "\n",
    "\n",
    "t = model.addVar(\"objective\", ub = None) # in 0, infinity\n",
    "model.addCons(cvar + 1.0 / cvar <= t, \"forgotten_constraint\")\n",
    "model.setObjective(t, \"minimize\")\n",
    "model.writeProblem(\"model.cip\")\n",
    "\n",
    "print(\"------------------------\")\n",
    "model.optimize()"
   ]
  },
  {
   "cell_type": "markdown",
   "metadata": {},
   "source": [
    "**Note:** In this simple example we added the variables individually to create the sum expression which is fine because the example is small and the number of variables is fixed. For creating useful models often loops are involved and the quicksum function is the best way to create such expressions.\n",
    "\n",
    "See the sudoku example for reference: https://scip-interfaces.github.io/PySCIPOpt/docs/html/sudoku_8py_source.html\n",
    "\n",
    "\n",
    "\n",
    "# TSP exercise\n",
    "\n",
    "\n",
    "We will solve some of the tsp instances located at `tspdata/` with PySCIPOpt"
   ]
  },
  {
   "cell_type": "code",
   "execution_count": null,
   "metadata": {},
   "outputs": [],
   "source": [
    "from pyscipopt import Model, Heur, Eventhdlr, Conshdlr, quicksum, SCIP_RESULT, SCIP_EVENTTYPE, SCIP_HEURTIMING"
   ]
  },
  {
   "cell_type": "markdown",
   "metadata": {},
   "source": [
    "## Reading the instance and Generating the graph\n",
    "\n",
    "* The format of the instances is as follows \n",
    "```\n",
    "HEADER_INFO\n",
    "...\n",
    "1 x1 y1\n",
    ".\n",
    ".\n",
    ".\n",
    "n xn yn\n",
    "END\n",
    "```\n",
    "* We write a function that reads the instance name and returns three dictionaries:\n",
    "`x` mapping each vertex to its $x$ coordinate \n",
    "`y` mapping each vertex to its $y$ coordinate\n",
    "`xy` mapping each vertex to a tuple of its coordinates ($x$, $y$), which we are going to use for plotting"
   ]
  },
  {
   "cell_type": "code",
   "execution_count": null,
   "metadata": {},
   "outputs": [],
   "source": [
    "def is_number(s):\n",
    "    try:\n",
    "        float(s)\n",
    "        return True\n",
    "    except ValueError:\n",
    "        return False\n",
    "    \n",
    "\n",
    "def read_instance(name):\n",
    "    x ={}\n",
    "    y ={}\n",
    "    xy = {}\n",
    "    with open(name) as fp:\n",
    "        line = fp.readline()\n",
    "        cnt = 1\n",
    "        while line:\n",
    "            sp = line.split()\n",
    "            if len(sp) > 0 and sp[0].isnumeric():\n",
    "                assert len(sp) == 3\n",
    "                assert is_number(sp[1]) and is_number(sp[2])\n",
    "                x[cnt] = float(sp[1])\n",
    "                y[cnt] = float(sp[2])\n",
    "\n",
    "                # dictionary from node to its coordinates: we use this for plotting the graph\n",
    "                xy[cnt] = (x[cnt], y[cnt])\n",
    "                cnt += 1\n",
    "            line = fp.readline()\n",
    "    return x, y, xy"
   ]
  },
  {
   "cell_type": "markdown",
   "metadata": {},
   "source": [
    "* $n$ is the number of nodes (length of `x`)\n",
    "* $V= \\{1,\\ldots, n\\}$ are going to be the nodes\n",
    "* We write a function that given `x` and `y` dictionaries between vertices and their coordinates, returns a dictionary `c` between pairs of vertices and their distance."
   ]
  },
  {
   "cell_type": "code",
   "execution_count": null,
   "metadata": {},
   "outputs": [],
   "source": [
    "import math\n",
    "\n",
    "def distance(x1,y1,x2,y2):\n",
    "    \"\"\"distance: euclidean distance between (x1,y1) and (x2,y2)\"\"\"\n",
    "    return round(math.sqrt((x2-x1)**2 + (y2-y1)**2),2)\n",
    "\n",
    "def compute_distance_matrix(x,y):\n",
    "    n = len(x)\n",
    "    V = range(1,n)\n",
    "    c={}\n",
    "    for i in V:\n",
    "        for j in V:\n",
    "            if j > i:\n",
    "                c[i,j] = distance(x[i],y[i],x[j],y[j])\n",
    "    return c"
   ]
  },
  {
   "cell_type": "markdown",
   "metadata": {},
   "source": [
    "## Visualizing the graph of an instance"
   ]
  },
  {
   "cell_type": "code",
   "execution_count": null,
   "metadata": {},
   "outputs": [],
   "source": [
    "pip install networkx"
   ]
  },
  {
   "cell_type": "code",
   "execution_count": null,
   "metadata": {},
   "outputs": [],
   "source": [
    "from IPython.core.display import display, HTML\n",
    "display(HTML(\"<style>div.output_scroll { height: 44em; }</style>\"))"
   ]
  },
  {
   "cell_type": "code",
   "execution_count": null,
   "metadata": {
    "scrolled": true
   },
   "outputs": [],
   "source": [
    "import networkx\n",
    "import matplotlib.pyplot as plt\n",
    "\n",
    "# read instance\n",
    "x, y, xy = read_instance('tspdata/burma14.tsp')\n",
    "V = range(1, len(x))\n",
    "\n",
    "# make plot look nicer\n",
    "plt.figure(figsize=(10,6), dpi=100) \n",
    "\n",
    "# define empty graph\n",
    "graph = networkx.Graph()\n",
    "\n",
    "# the graph is complete so there are edges between every pair of nodes\n",
    "edgelist = [(i,j) for i in V for j in V if j > i]\n",
    "\n",
    "# add edges\n",
    "graph.add_edges_from(edgelist)\n",
    "\n",
    "# draw the graph, place the nodes using x,y coordinates\n",
    "networkx.draw(graph, node_size=300, pos=xy, with_labels=True, node_color='lightblue')\n",
    "\n",
    "# show plot\n",
    "plt.show()"
   ]
  },
  {
   "cell_type": "markdown",
   "metadata": {},
   "source": [
    "## Tasks\n",
    "In these exercise we are going to solve TSP problems as the one visualized above.\n",
    "Below we will discuss the constraint integer program model of the TSP that we will solve.\n",
    "To solve it, we will need a `constraint handler`.\n",
    "On top of that, we will also implement the [2 Opt Heuristic](https://en.wikipedia.org/wiki/2-opt) and an `event handler` to visualize every solution that SCIP finds.\n",
    "\n",
    "Before discussing the TSP model, we provide the skeleton code for implementing the `event handler` and the `heuristic`. Later you will find these classes again and you will have to implement them."
   ]
  },
  {
   "cell_type": "code",
   "execution_count": null,
   "metadata": {},
   "outputs": [],
   "source": [
    "# (dummy) Event handler\n",
    "class NewSolEvent(Eventhdlr):\n",
    "\n",
    "    # we pass some information we need the event handler to know, like the variables\n",
    "    # and the positions of the nodes\n",
    "    def __init__(self, vars_dict, coords_nodes):\n",
    "        self.data = {}\n",
    "        self.data['vars'] = vars_dict\n",
    "        self.data['xy'] = coords_nodes\n",
    "\n",
    "    # initialization method: here we tell SCIP that we want to listen to the BESTSOLFOUND event,\n",
    "    # that is, we want to be called whenever a new best solution is found\n",
    "    def eventinit(self):\n",
    "        self.model.catchEvent(SCIP_EVENTTYPE.BESTSOLFOUND, self)\n",
    "\n",
    "    # here we stop listening to the event we were listening to\n",
    "    def eventexit(self):\n",
    "        self.model.dropEvent(SCIP_EVENTTYPE.BESTSOLFOUND, self)\n",
    "\n",
    "    # execution method of the event handler\n",
    "    def eventexec(self, event):\n",
    "        print(\"EVENT: new best sol found. TODO: visualize the solution\")\n",
    "        pass\n",
    "\n",
    "\n",
    "# (dummy) Heuristic \n",
    "class TwoOpt(Heur):\n",
    "\n",
    "    # we pass some information we need the heuristic to know, like the variables\n",
    "    # and the costs of the edges\n",
    "    def __init__(self, costs, vars_dict):\n",
    "        self.data = {}\n",
    "        self.data['costs'] = costs\n",
    "        self.data['vars'] = vars_dict\n",
    "        self.data['primalbound'] = -1.0\n",
    "\n",
    "    # execution method of the heuristic. \n",
    "    \n",
    "    def heurexec(self, heurtiming, nodeinfeasible):\n",
    "        \n",
    "        # 2 Opt is an improving heuristic and so it should run only\n",
    "        # once per new solution. To realize if we should run, that is, if there is a solution and this solution is \n",
    "        # different from the time we were called, we store the primal bound of the last solution we saw.\n",
    "        # NOTE: it would be easier to just ask whether the solutions are the same, however, this does not work\n",
    "        # with the current state of PySCIPOpt.\n",
    "        \n",
    "        # get primal bound\n",
    "        primalbound = self.model.getPrimalbound()\n",
    "        \n",
    "        # if we have no solution yet don't run\n",
    "        if self.model.isInfinity(primalbound):\n",
    "            return {\"result\": SCIP_RESULT.DIDNOTRUN}\n",
    "        \n",
    "        # if we already saw this solution do not run\n",
    "        if primalbound == self.data['primalbound']:\n",
    "            return {\"result\": SCIP_RESULT.DIDNOTRUN}\n",
    "        \n",
    "        # remember the new primal bound we are seeing\n",
    "        self.data['primalbound'] = primalbound\n",
    "        \n",
    "        print(\"HEURISTIC: we should try to improve the solution with 2-opt\")\n",
    "        return {\"result\": SCIP_RESULT.DIDNOTFIND}"
   ]
  },
  {
   "cell_type": "markdown",
   "metadata": {},
   "source": [
    "## A TSP Model\n",
    "\n",
    "We use the standard DFJ formulation: Let $x_{ij} \\in \\{0,1\\}$ represent if the tour uses the edge $(i,j)$ (i.e. if we go from city $i$ to $j$ or the other way around),\n",
    "then an optimal tour can be found by solving:\n",
    "$$\n",
    "\\min \\sum_{i,j \\in V} c_{ij} x_{ij}\n",
    "$$\n",
    "\n",
    "subject to:\n",
    "\n",
    "* We have to enter and leave every city: \n",
    "$$\n",
    "\\sum_{i \\in V} x_{ij} = 2 \\quad \\forall j \\in V\n",
    "$$\n",
    "\n",
    "\n",
    "* No subtours (subtour elimination constraints)\n",
    "\n",
    "$$\n",
    "\\sum_{i,j \\in S} x_{ij} \\leq |S| - 1 \\quad \\forall S \\subsetneq V,\\ |S| \\geq 2\n",
    "$$\n",
    "\n",
    "\n",
    "There are too many subtour elimination constraints, so instead of adding them all, we will define a new constraint type $SE((x_{ij})_{i,j\\in V})$ which means that the subgraph induced by the $x_{ij}$ has no subtours.\n",
    "\n",
    "**Note:** In the lecture you saw the subtour elimination constrains written as \n",
    "$$\n",
    "\\sum_{e \\in \\delta(S)} x_{e} \\geq 2 \\quad \\forall S \\subsetneq V,\\ S \\neq \\emptyset.\n",
    "$$\n",
    "These generate the same model. The advantage of the above way of writting the inequalities is that it motivates the following separation procedure for the subtour elimination constriants. Given a point $\\bar x$ one can decide whether there is a subtour elimination constraint by computing the minimum cut of the graph where each edge has weight $\\bar{x}_e$. However, in this exercise we will follow a simpler (but less effective) approach by only separating integer valued violated points (see below).\n",
    "\n",
    "\n",
    "### The SE constraint handler\n",
    "\n",
    "This constraint type does not exist in SCIP, so your task is to implement it.\n",
    "The raison d'être of a constraint handler is to enforce that the constraint is satisfied.\n",
    "For this, SCIP requires that the constraint handler is able to reply to some questions, for example,\n",
    "* Is a given solution feasible?\n",
    "* If the given solution is not feasible, can you do something to forbid this solution from further consideration?\n",
    "\n",
    "For solving the TSP we are going to be using an LP-based branch and bound method, so methods for forbidding a solution could be\n",
    "* Add a cut (linear inequality separating the solution from the LP relaxation)\n",
    "* Tighten a variable bound (a special type of cut)\n",
    "* Branch\n",
    "\n",
    "In this exercise, we will only provide cuts to enforce the constraint.\n",
    "\n",
    "The first task is going to be to write a model for the TSP problem with an SE constraint handler that, for the time being, does not enforce anything.\n",
    "So we need to create the constraint handler, create a subtour elimination constriant, and add it to the problem together with the other constraint described above"
   ]
  },
  {
   "cell_type": "code",
   "execution_count": null,
   "metadata": {},
   "outputs": [],
   "source": [
    "# (dummy) subtour elimination constraint handler\n",
    "class SEC(Conshdlr):\n",
    "\n",
    "    # method for creating a constraint of this constraint handler type\n",
    "    def createCons(self, name, variables):\n",
    "        model = self.model\n",
    "        cons = model.createCons(self, name)\n",
    "        \n",
    "        # data relevant for the constraint; in this case we only need to know which\n",
    "        # variables cannot form a subtour\n",
    "        cons.data = {}\n",
    "        cons.data['vars'] = variables\n",
    "        return cons\n",
    "\n",
    "\n",
    "    # checks whether solution is feasible; we just say yes\n",
    "    def conscheck(self, constraints, solution, check_integrality,\n",
    "                  check_lp_rows, print_reason, completely, **results):\n",
    "        for cons in constraints:\n",
    "            print(\"CONSHDLR: should check if \", cons, \" is feasible\")\n",
    "        return {\"result\": SCIP_RESULT.FEASIBLE}\n",
    "\n",
    "    # enforces the LP solution; we just say we are feasible\n",
    "    def consenfolp(self, constraints, n_useful_conss, sol_infeasible):\n",
    "        for cons in constraints:\n",
    "            print(\"CONSHDLR: should enforce \", cons)\n",
    "        return {\"result\": SCIP_RESULT.FEASIBLE}\n",
    "\n",
    "\n",
    "    # this is rather technical and not relevant for the exercise. to learn more see \n",
    "    # https://scipopt.org/doc/html/CONS.php#CONS_FUNDAMENTALCALLBACKS\n",
    "    def conslock(self, constraint, locktype, nlockspos, nlocksneg):\n",
    "        pass"
   ]
  },
  {
   "cell_type": "markdown",
   "metadata": {},
   "source": [
    "With the subtour elimination constraint handler we are ready to write our model for the TSP.\n",
    "\n",
    "First, introduce the binary variables $x_{ij}$ only for $j > i$ and store them in a dictionary mapping $(i,j)$ to $x_{ij}$."
   ]
  },
  {
   "cell_type": "code",
   "execution_count": null,
   "metadata": {},
   "outputs": [],
   "source": [
    "def createVars(model, V):\n",
    "    x = {}\n",
    "    for i in V:\n",
    "        for j in V:\n",
    "            if j > i:\n",
    "                # add your code here\n",
    "    return x\n"
   ]
  },
  {
   "cell_type": "markdown",
   "metadata": {},
   "source": [
    "* Define the objective function $\\min \\sum_{i,j \\in V} c_{ij} x_{ij}$"
   ]
  },
  {
   "cell_type": "code",
   "execution_count": null,
   "metadata": {},
   "outputs": [],
   "source": [
    "def setObjective(model, x, c):\n",
    "    # add your code here"
   ]
  },
  {
   "cell_type": "markdown",
   "metadata": {},
   "source": [
    "* Now, add the simple constraints $\\sum_{i \\in V} x_{ij} = 2 \\quad \\forall j \\in V$\n",
    "\n",
    "* **NOTE:** As $x_{ij}$ is only defined for $j > i$, you have to rewrite the sum:\n",
    "    $\\sum_{i \\in V} x_{ij} = \\sum_{i \\in V, i < j} x_{ij} + \\sum_{i \\in V, i > j} x_{ij}\n",
    "    = \\sum_{i \\in V, i < j} x_{ij} + \\sum_{i \\in V, i > j} x_{ji}$"
   ]
  },
  {
   "cell_type": "code",
   "execution_count": null,
   "metadata": {},
   "outputs": [],
   "source": [
    "def addComeAndGoConstraints(model, V, x):\n",
    "    for j in V:\n",
    "        # add your code here"
   ]
  },
  {
   "cell_type": "markdown",
   "metadata": {},
   "source": [
    "* The only missing ingredient is the Subtour elimination constraint that we add next.  \n",
    "For this, we need to add the Subtour elimination constraint handler and then create a constraint from type (i.e. a subtour elimination constraint)\n",
    "* There might be many reasons for a solution to be infeasible. For example, some variable $x_{ij}$ could take a non-integer value!\n",
    "* The integral constraint handler checks that the integer variables have integer values. The way it enforces this is by branching.\n",
    "* In our application, enforcing the subtour elimination constraint does not really make sense for a non-integer value solution. Thus, when SCIP asks us whether a solution is feasible we would like that this solution is at least integer feasible.\n",
    "* We can achieve this by setting the `check priority` to be negative (see [here](https://scipopt.org/doc/html/CONS.php#CONS_PROPERTIES) for more details)\n",
    "* The same is true for enforcement. We will as well set the`enforcement priority` to be negative"
   ]
  },
  {
   "cell_type": "code",
   "execution_count": null,
   "metadata": {},
   "outputs": [],
   "source": [
    "def addSubtourElimination(model, x):\n",
    "    # create the constraint handler\n",
    "    conshdlr = SEC()\n",
    "\n",
    "    # Add the constraint handler to SCIP. We set check priority < 0 so that only integer feasible solutions\n",
    "    # are passed to the conscheck callback\n",
    "    model.includeConshdlr(conshdlr, \"TSP\", \"TSP subtour eliminator\", chckpriority = -10, enfopriority = -10)\n",
    "\n",
    "    # create a subtour elimination constraint\n",
    "    cons = conshdlr.createCons(\"no_subtour_cons\", x)\n",
    "\n",
    "    # add constraint to SCIP\n",
    "    model.addPyCons(cons)"
   ]
  },
  {
   "cell_type": "markdown",
   "metadata": {},
   "source": [
    "* Excellent, we can now setup and print our model to see how it looks. We also add the heuristic and event handler."
   ]
  },
  {
   "cell_type": "code",
   "execution_count": null,
   "metadata": {},
   "outputs": [],
   "source": [
    "def setupModel(instance):\n",
    "    xcoords, ycoords, xy = read_instance(instance)\n",
    "    c = compute_distance_matrix(xcoords, ycoords)\n",
    "    \n",
    "    model = Model()\n",
    "    V = range(1, len(xcoords))\n",
    "    \n",
    "    x = createVars(model, V)\n",
    "    setObjective(model, x, c)\n",
    "    addComeAndGoConstraints(model, V, x)\n",
    "    addSubtourElimination(model, x)\n",
    "    \n",
    "    # create and add event handler\n",
    "    model.includeEventhdlr(NewSolEvent(x, xy), \"NewSolEvent\", \"Prints new sol found\")\n",
    "    # create and add heuristic\n",
    "    model.includeHeur(TwoOpt(c, x), \"2opt\", \"2 Opt Heuristic\", \"K\", timingmask=SCIP_HEURTIMING.AFTERLPNODE)\n",
    "\n",
    "    \n",
    "    return model, x\n",
    "    \n",
    "model, x = setupModel('tspdata/burma14.tsp')\n",
    "model.redirectOutput()\n",
    "model.writeProblem(\"model.cip\")"
   ]
  },
  {
   "cell_type": "markdown",
   "metadata": {},
   "source": [
    "The subtour elimination constraint gets printed as `[TSP] <no_subtour_cons>: ;`.\n",
    "`TSP` is the name of the constraint handler and `no_subtour_cons` is the name of the only subtour elimination constriant that we created.\n",
    "To modify the way a constraint gets printed, one needs to implement the `consprint` callback. We will not do this here.\n",
    "\n",
    "Let us run the model to see what happens"
   ]
  },
  {
   "cell_type": "code",
   "execution_count": null,
   "metadata": {},
   "outputs": [],
   "source": [
    "# solve\n",
    "model.optimize()"
   ]
  },
  {
   "cell_type": "markdown",
   "metadata": {},
   "source": [
    "* So we see that we were asked to check some solutions. \n",
    "* We also see that the optimal solution was found without the need of our constraint handler to enforce, as the relaxation solution was already optimal.\n",
    "* What solution did SCIP compute? Let us visualize it"
   ]
  },
  {
   "cell_type": "code",
   "execution_count": null,
   "metadata": {},
   "outputs": [],
   "source": [
    "# get the solution to visualize\n",
    "sol = model.getBestSol()\n",
    "\n",
    "# Collect the edges: if the value of x[i,j] is 1, then the edge (i,j) is in the solution\n",
    "edges = []\n",
    "for (i,j) in x:\n",
    "    if model.getSolVal(sol, x[i,j]) > 0.5: # variable is binary so > 0.5 --> is 1\n",
    "        edges.append( (i,j) )\n",
    "\n",
    "# make figure look nicer\n",
    "plt.figure(figsize=(10,6), dpi=100)\n",
    "\n",
    "# create empty graph\n",
    "optgraph = networkx.Graph()\n",
    "\n",
    "# add edges\n",
    "optgraph.add_edges_from(edges)\n",
    "\n",
    "# draw the nodes, with labels in the position xy (see when we read the instance)\n",
    "networkx.draw(optgraph, node_size=300, pos=xy, with_labels=True, node_color='lightblue')\n",
    "\n",
    "# show drawing\n",
    "plt.show()\n"
   ]
  },
  {
   "cell_type": "markdown",
   "metadata": {},
   "source": [
    "We see that there are subtours, which is to be expected as the subtour elimination constraint we added does nothing.\n",
    "\n",
    "Our task is to make it work now. The question we need to answer is, given a solution, how to find if there is a subtour, and if there is a subtour, how do we separate it?\n",
    "\n",
    "We are going to use the package `networkx` to find whether there are subtours. The idea is that there is a subtour if and only if there is a connected component that does not contain all the vertices.\n",
    "\n",
    "Your task is to build a graph, whose edges are the ones given by the given current solution and use the function `networkx.connected_components` to get the connected components."
   ]
  },
  {
   "cell_type": "code",
   "execution_count": null,
   "metadata": {},
   "outputs": [],
   "source": [
    "edges = []\n",
    "\n",
    "# add code here to build the adjacency list\n",
    "\n",
    "G = networkx.Graph()\n",
    "G.add_edges_from(edges)\n",
    "\n",
    "# add code here to compute and print the connceted components of G"
   ]
  },
  {
   "cell_type": "markdown",
   "metadata": {},
   "source": [
    "So we see that there is the `9-10-11` subtour.\n",
    "In general, if $S$ is a connected component inducing a subtour, we can forbid this subtour with the following subtour elimination constriant:\n",
    "$$\n",
    "\\sum_{i,j \\in S} x_{ij} \\leq |S| - 1\n",
    "$$\n",
    "So for $S = \\{9, 10, 11\\}$ the constraint eliminating $S$ is (remember that $x_{ij}$ exist only for $j > i$!)\n",
    "$$\n",
    "x_{9,10} + x_{9,11} + x_{10,11} \\leq 2.\n",
    "$$\n",
    "\n",
    "\n",
    "We are now ready to put it all together and implement the constraint handler\n",
    "\n",
    "**Hints**\n",
    "* use `model.getSolVal(solution, x[i, j])` to access the solution value of `x[i,j]` in `solution` \n",
    "* use `model.addCons` to add the subtour elimination constraint\n",
    "* in `conscheck` return `{\"result\": SCIP_RESULT.INFEASIBLE}` if the solution is infeasible (has subtours)\n",
    "* in `consenfolp` return `{\"result\": SCIP_RESULT.CONSADDED}` if you added a constraint."
   ]
  },
  {
   "cell_type": "code",
   "execution_count": null,
   "metadata": {},
   "outputs": [],
   "source": [
    "# subtour elimination constraint handler\n",
    "class SEC(Conshdlr):\n",
    "\n",
    "    # method for creating a constraint of this constraint handler type\n",
    "    def createCons(self, name, variables):\n",
    "        model = self.model\n",
    "        cons = model.createCons(self, name)\n",
    "        \n",
    "        # data relevant for the constraint; in this case we only need to know which\n",
    "        # variables cannot form a subtour\n",
    "        cons.data = {}\n",
    "        cons.data['vars'] = variables\n",
    "        return cons\n",
    "\n",
    "    \n",
    "    # find subtours in the graph induced by the edges {i,j} for which x[i,j] is positive\n",
    "    # at the given solution; when solution is None, the LP solution is used\n",
    "    def find_subtours(self, cons, solution = None):\n",
    "        # add code here\n",
    "\n",
    "    # checks whether solution is feasible\n",
    "    def conscheck(self, constraints, solution, check_integrality,\n",
    "                  check_lp_rows, print_reason, completely, **results):\n",
    "        # add code here\n",
    "        \n",
    "    \n",
    "    # enforces the LP solution: searches for subtours in the solution and adds \n",
    "    # adds constraints forbidding all the found subtours\n",
    "    def consenfolp(self, constraints, n_useful_conss, sol_infeasible):\n",
    "        # add code here\n",
    "\n",
    "    # this is rather technical and not relevant for the exercise. to learn more see \n",
    "    # https://scipopt.org/doc/html/CONS.php#CONS_FUNDAMENTALCALLBACKS\n",
    "    def conslock(self, constraint, locktype, nlockspos, nlocksneg):\n",
    "        pass"
   ]
  },
  {
   "cell_type": "markdown",
   "metadata": {},
   "source": [
    "Let us try to solve our problem now"
   ]
  },
  {
   "cell_type": "code",
   "execution_count": null,
   "metadata": {},
   "outputs": [],
   "source": [
    "model, x = setupModel('tspdata/burma14.tsp')\n",
    "model.redirectOutput()\n",
    "model.optimize()"
   ]
  },
  {
   "cell_type": "markdown",
   "metadata": {},
   "source": [
    "It would be nice if we can visualize how the solutions that SCIP finds during solving look like\n",
    "\n",
    "To achieve this, your next task is to implement an event handler that\n",
    "* Listens to the `SCIP_EVENTTYPE_BESTSOLFOUND` event\n",
    "* Visualizes the found solution\n",
    "\n",
    "**Hint**\n",
    "* A few cells above we visualized a solution."
   ]
  },
  {
   "cell_type": "code",
   "execution_count": null,
   "metadata": {},
   "outputs": [],
   "source": [
    "# Event handler\n",
    "class NewSolEvent(Eventhdlr):\n",
    "\n",
    "    def __init__(self, vars_dict, coords_nodes):\n",
    "        self.data = {}\n",
    "        self.data['vars'] = vars_dict\n",
    "        self.data['xy'] = coords_nodes\n",
    "\n",
    "    # we want to be called whenever a new best sol is found\n",
    "    def eventinit(self):\n",
    "        self.model.catchEvent(SCIP_EVENTTYPE.BESTSOLFOUND, self)\n",
    "\n",
    "    # stop listening to event\n",
    "    def eventexit(self):\n",
    "        self.model.dropEvent(SCIP_EVENTTYPE.BESTSOLFOUND, self)\n",
    "\n",
    "    def eventexec(self, event):\n",
    "        assert event.getType() == SCIP_EVENTTYPE.BESTSOLFOUND\n",
    "        # add code here to visualize the solution"
   ]
  },
  {
   "cell_type": "markdown",
   "metadata": {},
   "source": [
    "* Excellent! Let us try again, this time with `tspdata/eil51.tsp`"
   ]
  },
  {
   "cell_type": "code",
   "execution_count": null,
   "metadata": {
    "scrolled": true
   },
   "outputs": [],
   "source": [
    "model, x = setupModel('tspdata/eil51.tsp')\n",
    "model.redirectOutput()\n",
    "model.optimize()"
   ]
  },
  {
   "attachments": {
    "1.png": {
     "image/png": "[encoded data removed]"
    },
    "2.png": {
     "image/png": "[encoded data removed]"
    },
    "3.png": {
     "image/png": "[encoded data removed]"
    }
   },
   "cell_type": "markdown",
   "metadata": {},
   "source": [
    "In the output, we see that our heuristic gets called, although it does nothing yet.\n",
    "\n",
    "### Implementing the heuristic\n",
    "\n",
    "The idea of the heuristic is to take a given solution and try to find a better one by `uncrossing` pairs of edges.\n",
    "For example, suppose we have a path like the following.\n",
    "![1.png](attachment:1.png)\n",
    "Let us give a direction to this path, say, 0-1-3-2-4-5-0.\n",
    "We can try to uncross the edge 1-3 with 2-4 and see if this gives a better solution.\n",
    "By uncrossing two edges $e_1$ and $e_2$ we mean to remove the edges and introduce instead $(h(e_1), h(e_2))$ and $(t(e_1), t(e_2)$, where $h(e)$ is the `head` of the edge (the first node in the edge) and $t(e)$ is the `tail` (the second node).\n",
    "Of course, `head` and `tail` only make sense when there is a direction, but we gave one to the path.\n",
    "By 'uncrossing' the pair of edges 1-3 and 2-4, we get 1-2 and 3-4, which yields the following path.\n",
    "![2.png](attachment:2.png)\n",
    "**Note** we had two options to replace 1-3 and 2-4. The uncrossing gave 1-2 and 3-4, but we could also replace them with 1-4 and 3-2. Doing this yields\n",
    "![3.png](attachment:3.png)\n",
    "As you can see, this disconnects the path and is not a valid operation. This is the reason why we need to orient the path and define the uncrossing as above. If we do not orient the path, in principle, we have no idea how to perform the uncrossing.\n",
    "\n",
    "**Your task**\n",
    "\n",
    "Your task is to implement the heuristic. You should get the solution with `model.getBestSol()` and extract the (directed) edges in the path from the solution. Then, loop over every pair of non-adjacent edges (i.e. edges that do not share vertices) and check if uncrossing them gives a better solution. When you find an uncrossing that yields a better solution, create a new solution with `model.createSol()` and set it to the new solution. Then add it to SCIP and return.\n",
    "\n",
    "**Hints**\n",
    "* To build the (directed) edges of the path, it could be useful to build an adjacency list, i.e., for each node $i$, store the nodes that $i$ is connected to in the path. Then you can traverse the path and this traversal can provide a direction of the edges.\n",
    "* Since you know that the solution is feasible, you can directly add it without checking for feasibility. For this, you can use `model.addSol()`\n",
    "Assume the uncrossing of $e_1$ and $e_2$ gives the edges $f_1$ and $f_2$.\n",
    "* To check that the uncrossing yields a better solution, notice that the new solution value is the old solution value minus the costs of $e_1$ and $e_2$, plus the costs of $f_1$ and $f_2$.\n",
    "Therefore, the new solution value is better (smaller) than the old solution value if and only if\n",
    "$c_{f_1} + c_{f_2} < c_{e_1} + c_{e_2}$\n",
    "* If one of the variables $x_{f_i}$ is fixed to 0 or one of the variables $x_{e_i}$ is fixed to 1, then the uncrossing cannot be performed\n",
    "\n"
   ]
  },
  {
   "cell_type": "code",
   "execution_count": null,
   "metadata": {},
   "outputs": [],
   "source": [
    "# Heuristic\n",
    "class TwoOpt(Heur):\n",
    "\n",
    "    def __init__(self, costs, vars_dict):\n",
    "        self.data = {}\n",
    "        self.data['costs'] = costs\n",
    "        self.data['vars'] = vars_dict\n",
    "        self.data['primalbound'] = 0.0\n",
    "        \n",
    "    # given an edge = (a, b), returns edge in model, i.e. (a,b) if a < b or (b,a) if b > a\n",
    "    def real_edge(self, edge):\n",
    "        assert edge[0] != edge[1]\n",
    "        return tuple(sorted(edge))\n",
    "\n",
    "    def heurexec(self, heurtiming, nodeinfeasible):\n",
    "\n",
    "        # only run if we have a new solution\n",
    "        primalbound = self.model.getPrimalbound()\n",
    "        #print(\"calling 2opt primalbound and stored primal = \", primalbound, self.data['primalbound'])\n",
    "        if self.model.isInfinity(primalbound) or primalbound == self.data['primalbound']:\n",
    "            return {\"result\": SCIP_RESULT.DIDNOTRUN}\n",
    "\n",
    "        self.data['primalbound'] = primalbound\n",
    "\n",
    "        # add code here to implement the heuristic and if successful return {\"result\": SCIP_RESULT.FOUNDSOL}\n",
    "\n",
    "        return {\"result\": SCIP_RESULT.DIDNOTFIND}"
   ]
  },
  {
   "cell_type": "markdown",
   "metadata": {},
   "source": [
    "Now we can try again. We can see if our heuristic found a solution in the output. In the `mem/heur` the name of our heuristic will appear when it finds a solution."
   ]
  },
  {
   "cell_type": "code",
   "execution_count": null,
   "metadata": {},
   "outputs": [],
   "source": [
    "model, x = setupModel('tspdata/eil51.tsp')\n",
    "model.redirectOutput()\n",
    "model.optimize()"
   ]
  },
  {
   "cell_type": "code",
   "execution_count": null,
   "metadata": {},
   "outputs": [],
   "source": []
  }
 ],
 "metadata": {
  "kernelspec": {
   "display_name": "Python 3",
   "language": "python",
   "name": "python3"
  },
  "language_info": {
   "codemirror_mode": {
    "name": "ipython",
    "version": 3
   },
   "file_extension": ".py",
   "mimetype": "text/x-python",
   "name": "python",
   "nbconvert_exporter": "python",
   "pygments_lexer": "ipython3",
   "version": "3.7.7"
  }
 },
 "nbformat": 4,
 "nbformat_minor": 2
}
