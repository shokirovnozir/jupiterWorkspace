{
 "cells": [
  {
   "cell_type": "markdown",
   "metadata": {},
   "source": [
    "# Homework 1\n"
   ]
  },
  {
   "cell_type": "markdown",
   "metadata": {},
   "source": []
  },
  {
   "cell_type": "code",
   "execution_count": 7,
   "metadata": {},
   "outputs": [
    {
     "name": "stdout",
     "output_type": "stream",
     "text": [
      "Hello World\n"
     ]
    }
   ],
   "source": [
    "print (\"Hello World\")"
   ]
  },
  {
   "cell_type": "code",
   "execution_count": 9,
   "metadata": {},
   "outputs": [
    {
     "name": "stdout",
     "output_type": "stream",
     "text": [
      "CONVEX\n"
     ]
    },
    {
     "data": {
      "text/plain": [
       "True"
      ]
     },
     "execution_count": 9,
     "metadata": {},
     "output_type": "execute_result"
    }
   ],
   "source": [
    "from cvxpy import *\n",
    "import numpy\n",
    "\n",
    "\n",
    "x = Variable()\n",
    "y = Variable()\n",
    "\n",
    "expr = quad_over_lin(x-y, 1)\n",
    "print(expr.curvature)\n",
    "expr.sign\n",
    "expr.is_dcp()"
   ]
  },
  {
   "cell_type": "code",
   "execution_count": 11,
   "metadata": {},
   "outputs": [
    {
     "name": "stdout",
     "output_type": "stream",
     "text": [
      "[ -1.00049723e-03   2.78867474e-02   1.72324009e-03   3.67299258e-05\n",
      "  -1.34110728e-03   1.49849244e-01  -6.94547812e-04   4.95171402e-04\n",
      "   2.46109612e-01   5.76052476e-01  -2.31429313e-03   2.33210221e-04\n",
      "  -4.49099455e-04   2.25180894e-01  -9.46443449e-04  -4.96566507e-04\n",
      "  -8.01071048e-04  -8.34661500e-04   7.72478759e-04  -2.09625000e-03]\n",
      "[ 1.09903552 -1.02492371  2.26933624  0.95084789  4.0133446   0.68365192\n",
      "  0.28785274  2.06516239  1.37049403 -2.56192713  0.28915791 -1.02321332\n",
      " -1.12096684  1.28940399  3.1629931   1.5340185  -1.031995    1.4154816\n",
      " -0.90756085  0.30574722]\n"
     ]
    }
   ],
   "source": [
    "from cvxpy import *\n",
    "import numpy\n",
    "\n",
    "# Problem data.\n",
    "m = 30\n",
    "n = 20\n",
    "numpy.random.seed(1)\n",
    "A = numpy.random.randn(m, n)\n",
    "b = numpy.random.randn(m)\n",
    "\n",
    "# Construct the problem.\n",
    "x = Variable(n)\n",
    "objective = Minimize(sum_squares(A*x - b))\n",
    "constraints = [0 <= x, x <= 1]\n",
    "prob = Problem(objective, constraints)\n",
    "\n",
    "# The optimal objective is returned by prob.solve().\n",
    "result = prob.solve()\n",
    "# The optimal value for x is stored in x.value.\n",
    "print (x.value)\n",
    "# The optimal Lagrange multiplier for a constraint\n",
    "# is stored in constraint.dual_value.\n",
    "print (constraints[0].dual_value)"
   ]
  },
  {
   "cell_type": "code",
   "execution_count": null,
   "metadata": {
    "collapsed": true
   },
   "outputs": [],
   "source": []
  }
 ],
 "metadata": {
  "kernelspec": {
   "display_name": "Python 3",
   "language": "python",
   "name": "python3"
  },
  "language_info": {
   "codemirror_mode": {
    "name": "ipython",
    "version": 3
   },
   "file_extension": ".py",
   "mimetype": "text/x-python",
   "name": "python",
   "nbconvert_exporter": "python",
   "pygments_lexer": "ipython3",
   "version": "3.6.3"
  }
 },
 "nbformat": 4,
 "nbformat_minor": 2
}
